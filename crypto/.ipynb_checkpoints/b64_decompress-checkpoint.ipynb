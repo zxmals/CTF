{
 "cells": [
  {
   "cell_type": "markdown",
   "metadata": {},
   "source": [
    "#### base64隐写\n",
    "* base64转码\n",
    "    + 1、根据编码字符，按序遍历\n",
    "    + 2、找到每个字符的索引（64），并将索引转为2进制\n",
    "    + 3、将每个字符转化的二进制补足6位（在头部加“0”）\n",
    "    + 4、将所有转化后的二进制合并，再按照asiic编码转码（8位转一个字符）\n",
    "* 隐写点：转码最后一步（4）\n",
    "    + 第4步在转化时，按照8位一个窗口转一个字符\n",
    "    + 到最后不足8位的部分会舍弃\n",
    "    + 没隐写的情况，不足8位的部分在编码过程中会补0，补0的部分就是隐写的部分"
   ]
  },
  {
   "cell_type": "code",
   "execution_count": 51,
   "metadata": {},
   "outputs": [
    {
     "data": {
      "text/plain": [
       "'Base_sixty_four_point_five\\x00'"
      ]
     },
     "execution_count": 51,
     "metadata": {},
     "output_type": "execute_result"
    }
   ],
   "source": [
    "def base_sys2_number_forstr(bs2:str):\n",
    "    res_li = [chr(int(bs2[i*8:i*8+8],2)) for i in range(int(len(bs2)/8))]        \n",
    "    res_str = \"\"\n",
    "    for res_chr in res_li:\n",
    "        res_str += res_chr\n",
    "    return res_str\n",
    "\n",
    "def add_zero(bins:str):\n",
    "    zero = []\n",
    "    [zero.append(\"0\") for i in range(6-len(bins))]\n",
    "    res = \"\".join(zero) + bins\n",
    "    return res\n",
    "\n",
    "def solve_b64_stego(file_path:str):\n",
    "    b64_li = []\n",
    "    table = \"ABCDEFGHIJKLMNOPQRSTUVWXYZabcdefghijklmnopqrstuvwxyz0123456789+/\"\n",
    "    with open(file_path,'r') as f:\n",
    "        line = f.readline()\n",
    "        while line:\n",
    "            b64_li.append(line.replace(\"\\n\",\"\"))\n",
    "            line = f.readline()\n",
    "    b64_hide = []\n",
    "    for b64 in b64_li:\n",
    "        bins = ''\n",
    "        for b in b64:\n",
    "            if b!='=':\n",
    "                bins += add_zero(bin(table.index(b))[2:])\n",
    "        b64_hide.append(bins[len(bins)-(len(bins) % 8):])\n",
    "    return base_sys2_number_forstr(\"\".join(b64_hide))\n",
    "\n",
    "file_path = \"E:/download/CTF/[misc][初级]base64stego/flag/stego.txt\"\n",
    "solve_b64_stego(file_path)"
   ]
  }
 ],
 "metadata": {
  "kernelspec": {
   "display_name": "Python 3",
   "language": "python",
   "name": "python3"
  },
  "language_info": {
   "codemirror_mode": {
    "name": "ipython",
    "version": 3
   },
   "file_extension": ".py",
   "mimetype": "text/x-python",
   "name": "python",
   "nbconvert_exporter": "python",
   "pygments_lexer": "ipython3",
   "version": "3.7.0"
  }
 },
 "nbformat": 4,
 "nbformat_minor": 2
}
