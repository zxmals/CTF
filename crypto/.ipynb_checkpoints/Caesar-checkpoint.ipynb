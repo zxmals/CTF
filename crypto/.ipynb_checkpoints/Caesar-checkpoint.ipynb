{
 "cells": [
  {
   "cell_type": "code",
   "execution_count": 59,
   "metadata": {},
   "outputs": [],
   "source": [
    "words_str = 'abcdefghijklmnopqrstuvwxyz'\n",
    "words_low = [w for w in words_str]\n",
    "words_up = [w.upper() for w in words_str]\n",
    "number = [i for i in range(10)]\n",
    "\n",
    "def caesar_decompress(offset:int,caesared:str):\n",
    "    res_li = [number[number.index(int(c))-offset if number.index(int(c))-offset>=0 else number.index(int(c))-offset+10] if c.isdigit() else words_up[words_up.index(c)-offset if words_up.index(c)-offset>=0 else words_up.index(c)-offset+26] if c.isupper() else words_low[words_low.index(c)-offset if words_low.index(c)-offset>=0 else words_low.index(c)-offset+26] if c.islower() else c for c in caesared]\n",
    "    return ''.join(map(str,res_li))"
   ]
  },
  {
   "cell_type": "code",
   "execution_count": null,
   "metadata": {},
   "outputs": [],
   "source": [
    "for i in range(27):\n",
    "    print(i,caesar_decompress(i,'afZ_r9VYfScOeO_UL^RWUc'))"
   ]
  },
  {
   "cell_type": "markdown",
   "metadata": {},
   "source": [
    "#### 例:加密密文：afZ_r9VYfScOeO_UL^RWUc\n",
    "格式：flag{ }"
   ]
  },
  {
   "cell_type": "code",
   "execution_count": 55,
   "metadata": {},
   "outputs": [
    {
     "name": "stdout",
     "output_type": "stream",
     "text": [
      "flag{Caesar_variation}"
     ]
    }
   ],
   "source": [
    "caesar_str = 'afZ_r9VYfScOeO_UL^RWUc'\n",
    "res_str = ''\n",
    "k = 0\n",
    "for i in caesar_str:\n",
    "    print(chr(ord(i)+5+k),end='')\n",
    "    k += 1"
   ]
  }
 ],
 "metadata": {
  "kernelspec": {
   "display_name": "Python 3",
   "language": "python",
   "name": "python3"
  },
  "language_info": {
   "codemirror_mode": {
    "name": "ipython",
    "version": 3
   },
   "file_extension": ".py",
   "mimetype": "text/x-python",
   "name": "python",
   "nbconvert_exporter": "python",
   "pygments_lexer": "ipython3",
   "version": "3.7.6"
  }
 },
 "nbformat": 4,
 "nbformat_minor": 4
}
