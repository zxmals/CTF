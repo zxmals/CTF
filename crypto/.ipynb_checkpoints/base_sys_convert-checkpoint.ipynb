{
 "cells": [
  {
   "cell_type": "markdown",
   "metadata": {},
   "source": [
    "#### 二进制转字符：8位1个字节"
   ]
  },
  {
   "cell_type": "code",
   "execution_count": 5,
   "metadata": {},
   "outputs": [],
   "source": [
    "def base_sys2_number_forstr(bs2:str):\n",
    "    res_li = [chr(int(bs2[i*8:i*8+8],2)) for i in range(int(len(bs2)/8))]        \n",
    "    res_str = \"\"\n",
    "    for res_chr in res_li:\n",
    "        res_str += res_chr\n",
    "    return res_str"
   ]
  },
  {
   "cell_type": "code",
   "execution_count": 39,
   "metadata": {},
   "outputs": [
    {
     "data": {
      "text/plain": [
       "'koekj3s'"
      ]
     },
     "execution_count": 39,
     "metadata": {},
     "output_type": "execute_result"
    }
   ],
   "source": [
    "base_sys2_number_forstr('01101011011011110110010101101011011010100011001101110011')"
   ]
  },
  {
   "cell_type": "code",
   "execution_count": 7,
   "metadata": {},
   "outputs": [
    {
     "data": {
      "text/plain": [
       "'flag{FuN_giF}'"
      ]
     },
     "execution_count": 7,
     "metadata": {},
     "output_type": "execute_result"
    }
   ],
   "source": [
    "with open('E:/download/CTF/[misc][初级]gif/gif/gif/0.jpg','rb') as f:\n",
    "    w = f.read()\n",
    "with open('E:/download/CTF/[misc][初级]gif/gif/gif/1.jpg','rb') as f:\n",
    "    b = f.read()\n",
    "\n",
    "flag_bin = \"\"\n",
    "for i in range(104):\n",
    "    with open(\"E:/download/CTF/[misc][初级]gif/gif/gif/{}.jpg\".format(i),'rb') as f:\n",
    "        if f.read()==w:\n",
    "            flag_bin += '0'\n",
    "        else:\n",
    "            flag_bin += '1'\n",
    "base_sys2_number_forstr(flag_bin)"
   ]
  },
  {
   "cell_type": "code",
   "execution_count": 16,
   "metadata": {},
   "outputs": [
    {
     "name": "stdout",
     "output_type": "stream",
     "text": [
      "Hi, FreshDog! The flag is: hjzcydjzbjdcjkzkcugisdchjyjsbdfr"
     ]
    }
   ],
   "source": [
    "s = 'c8e9aca0c6f2e5f3e8c4efe7a1a0d4e8e5a0e6ece1e7a0e9f3baa0e8eafae3f9e4eafae2eae4e3eaebfaebe3f5e7e9f3e4e3e8eaf9eaf3e2e4e6f2'\n",
    "for i in range(int(len(s)/2)):\n",
    "    print(chr(int('0x'+s[i*2:i*2+2],16)-128),end=\"\")"
   ]
  }
 ],
 "metadata": {
  "kernelspec": {
   "display_name": "Python 3",
   "language": "python",
   "name": "python3"
  },
  "language_info": {
   "codemirror_mode": {
    "name": "ipython",
    "version": 3
   },
   "file_extension": ".py",
   "mimetype": "text/x-python",
   "name": "python",
   "nbconvert_exporter": "python",
   "pygments_lexer": "ipython3",
   "version": "3.7.0"
  }
 },
 "nbformat": 4,
 "nbformat_minor": 4
}
