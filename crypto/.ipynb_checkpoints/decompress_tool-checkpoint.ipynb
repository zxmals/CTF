{
 "cells": [
  {
   "cell_type": "markdown",
   "metadata": {},
   "source": [
    "#### 摩斯电码-解密"
   ]
  },
  {
   "cell_type": "code",
   "execution_count": 38,
   "metadata": {},
   "outputs": [],
   "source": [
    "mos_dict = {\n",
    "\"．━\":\"A\"\n",
    ",\"．\":\"E\"\n",
    ",\"．．\":\"I\"\n",
    ",\"━━\":\"M\"\n",
    ",\"━━．━\":\"Q\"\n",
    ",\"．．━\":\"U\"\n",
    ",\"━．．．\":\"B\"\n",
    ",\"．．━．\":\"F\"\n",
    ",\"．━━━\":\"J\"\n",
    ",\"━．\":\"N\"\n",
    ",\"．━．\":\"R\"\n",
    ",\"．．．━\":\"V\"\n",
    ",\"━．━．\":\"C\"\n",
    ",\"━━．\":\"G\"\n",
    ",\"━．━\":\"K\"\n",
    ",\"━━━\":\"O\"\n",
    ",\"．．．\":\"S\"\n",
    ",\"．━━\":\"W\"\n",
    ",\"━．．\":\"D\"\n",
    ",\"．．．．\":\"H\"\n",
    ",\"．━．．\":\"L\"\n",
    ",\"．━━．\":\"P\"\n",
    ",\"━\":\"T\"\n",
    ",\"━．．━\":\"X\"\n",
    ",\"━．━━\":\"Y\"\n",
    ",\"━━．．\":\"Z\"\n",
    ",\"━━━━━\":\"0\"\n",
    ",\"．．．．━\":\"4\"\n",
    ",\"━━━．．\":\"8\"\n",
    ",\"．━━━━\":\"1\"\n",
    ",\"．．．．．\":\"5\"\n",
    ",\"━━━━．\":\"9\"\n",
    ",\"．．━━━\":\"2\"\n",
    ",\"━．．．．\":\"6\"\n",
    ",\"．．．━━\":\"3\"\n",
    ",\"━━．．．\":\"7\"\n",
    "# ,\"．━．━．━\":\".\"\n",
    "# ,\"．．━━．．\":\"?\"\n",
    "# ,\"━．━．━━\":\"!\"\n",
    "# ,\"━．━━．\":\"(\"\n",
    "# ,\"．━━．━．\":\"@\"\n",
    ",\"━━━．．．\":\":\"\n",
    "# ,\"━．．．━\":\"=\"\n",
    "# ,\"━．．．．━\":\"━\"\n",
    "# ,\"━．━━．━\":\")\"\n",
    ",\"━━．．━━\":\",\"\n",
    "# ,\"．━━━━．\":\"'\"\n",
    "# ,\"．．━━．━\":\"_\"\n",
    "# ,\"．．．━．．━\":\"$\"\n",
    "# ,\"━．━．━．\":\";\"\n",
    "# ,\"━．．━．\":\"/\"\n",
    "# ,\"．━．．━．\":'\"'\n",
    "# ,\"．．．．\":\"&\"\n",
    "# ,\"．━━．━\":\"à或?\"\n",
    "# ,\"．．━━．\":\"e\"\n",
    "# ,\"━．━━．\":\"?\"\n",
    "# ,\"．．．━．\":\"?\"\n",
    "# ,\"．━．━\":\"?或?\"\n",
    "# ,\"．．━．．\":\"é\"\n",
    "# ,\"．━━━．\":\"?\"\n",
    "# ,\"．━━．．\":\"t\"\n",
    "# ,\"━━━━\":\"ch\"\n",
    "# ,\"．━．．━\":\"è\"\n",
    "# ,\"━━．━━\":\"?\"\n",
    "# ,\"．．━━\":\"ü或?\"\n",
    "# ,\"━．━．．\":\"?或?\"\n",
    "# ,\"━━．━．\":\"?\"\n",
    "# ,\"━━━．\":\"?或?\"\n",
    "# ,\"．━．━．\":\"AR\"\n",
    "# ,\"━．．．━\":\"BT\"\n",
    "# ,\"．━．．．\":\"AS\"\n",
    "# ,\"━．━\":\"K\"\n",
    "# ,\"．．．━．━\":\"SK\"\n",
    "}\n",
    "\n",
    "def decompress_morse(mos_str):\n",
    "#     mos_str = \"-.-. --- -. --. .-. .- - ..- .-.. .- - .. --- -. ... --..-- ..-. .-.. .- --. ---... .---- -. ...- .---- ..... .---- -... .-.. ...-- -- ...-- ..... ..... ....- --. ...--\"\n",
    "    mos_str = mos_str.replace('.',\"．\")\n",
    "    mos_str = mos_str.replace('-',\"━\")\n",
    "    res_li = [mos_dict[k] for k in mos_str.split()]\n",
    "    res_str = \"\"\n",
    "    for re_c in res_li:\n",
    "        res_str += re_c\n",
    "    print(res_str)\n",
    "    print(res_str.lower())"
   ]
  },
  {
   "cell_type": "code",
   "execution_count": null,
   "metadata": {},
   "outputs": [],
   "source": [
    "# 根据crc32值爆破图像宽度\n",
    "import os \n",
    "import binascii \n",
    "import struct\n",
    "\n",
    "misc = open(\"E:/download/misc4_OrEsuoP.png\",\"rb\").read()\n",
    "\n",
    "for i in range(1024): \n",
    "    data = misc[12:16] + struct.pack('>i',i)+ misc[20:29]\n",
    "    crc32 = binascii.crc32(data) & 0xffffffff \n",
    "    if crc32 == 0x932f8a6b: \n",
    "        print (i)"
   ]
  },
  {
   "cell_type": "code",
   "execution_count": 41,
   "metadata": {},
   "outputs": [
    {
     "name": "stdout",
     "output_type": "stream",
     "text": [
      "CONGRATULATIONS,FLAG:1NV151BL3M3554G3\n",
      "congratulations,flag:1nv151bl3m3554g3\n"
     ]
    }
   ],
   "source": [
    "import re\n",
    "s = \"[(BABA)-333(BBB)-334(B)1(A)-334(BBA)-333(ABA)-333(AB)-334(B)-333(AAB)-333(ABAA)-333(AB)-334(B)-333(AA)-333(BBB)-333(BA)-334(AAA)-333(BBAABB)-333(AABA)-333(ABAA)-334(AB)-333(BBA)-333(BBBAAA)-333(ABBBB)-333(BA)-334(AAAB)-333(ABBBB)-333(AAAAA)-333(ABBBB)-333(BAAA)-334(ABAA)-333(AAABB)-333(BB)-333(AAABB)-334(AA)1(AAA)-334(AAAAA)-333(AAAAB)-333(BBA)-333(AAABB)]\"\n",
    "s = s[1:len(s)-1]\n",
    "s_li = []\n",
    "for ms in re.sub(\"[0-9]|[(|)]\",\"\",s).split('-'):\n",
    "    ms_str = \"\"\n",
    "    for m in ms:\n",
    "        if m=='A':\n",
    "            ms_str += '.'\n",
    "        else:\n",
    "            ms_str += '-'\n",
    "    s_li.append(ms_str)\n",
    "decompress_morse(\" \".join(s_li))"
   ]
  }
 ],
 "metadata": {
  "kernelspec": {
   "display_name": "Python 3",
   "language": "python",
   "name": "python3"
  },
  "language_info": {
   "codemirror_mode": {
    "name": "ipython",
    "version": 3
   },
   "file_extension": ".py",
   "mimetype": "text/x-python",
   "name": "python",
   "nbconvert_exporter": "python",
   "pygments_lexer": "ipython3",
   "version": "3.7.0"
  }
 },
 "nbformat": 4,
 "nbformat_minor": 4
}
