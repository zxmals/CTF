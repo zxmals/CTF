{
 "cells": [
  {
   "cell_type": "markdown",
   "metadata": {},
   "source": [
    "### CRC32碰撞"
   ]
  },
  {
   "cell_type": "code",
   "execution_count": 1,
   "metadata": {},
   "outputs": [
    {
     "ename": "NameError",
     "evalue": "name 'cstr_len' is not defined",
     "output_type": "error",
     "traceback": [
      "\u001b[1;31m---------------------------------------------------------------------------\u001b[0m",
      "\u001b[1;31mNameError\u001b[0m                                 Traceback (most recent call last)",
      "\u001b[1;32m<ipython-input-1-796cebeaccfc>\u001b[0m in \u001b[0;36m<module>\u001b[1;34m()\u001b[0m\n\u001b[0;32m     60\u001b[0m                                 \u001b[1;32mbreak\u001b[0m\u001b[1;33m\u001b[0m\u001b[0m\n\u001b[0;32m     61\u001b[0m \u001b[1;33m\u001b[0m\u001b[0m\n\u001b[1;32m---> 62\u001b[1;33m \u001b[0mcrc_crack\u001b[0m\u001b[1;33m(\u001b[0m\u001b[1;34m\"E:/download/CTF/[misc][初级]big_zip/question.zip\"\u001b[0m\u001b[1;33m)\u001b[0m\u001b[1;33m\u001b[0m\u001b[0m\n\u001b[0m",
      "\u001b[1;32m<ipython-input-1-796cebeaccfc>\u001b[0m in \u001b[0;36mcrc_crack\u001b[1;34m(zipf)\u001b[0m\n\u001b[0;32m     31\u001b[0m     \u001b[0mcrc_list\u001b[0m \u001b[1;33m=\u001b[0m \u001b[1;33m[\u001b[0m\u001b[1;33m]\u001b[0m\u001b[1;33m\u001b[0m\u001b[0m\n\u001b[0;32m     32\u001b[0m     \u001b[1;32mfor\u001b[0m \u001b[0mname\u001b[0m \u001b[1;32min\u001b[0m \u001b[0mname_li\u001b[0m\u001b[1;33m:\u001b[0m\u001b[1;33m\u001b[0m\u001b[0m\n\u001b[1;32m---> 33\u001b[1;33m         \u001b[1;32mif\u001b[0m \u001b[0mzipf\u001b[0m\u001b[1;33m.\u001b[0m\u001b[0mgetinfo\u001b[0m\u001b[1;33m(\u001b[0m\u001b[0mname\u001b[0m\u001b[1;33m)\u001b[0m\u001b[1;33m.\u001b[0m\u001b[0mfile_size\u001b[0m \u001b[1;33m==\u001b[0m \u001b[0mcstr_len\u001b[0m\u001b[1;33m:\u001b[0m\u001b[1;33m\u001b[0m\u001b[0m\n\u001b[0m\u001b[0;32m     34\u001b[0m             \u001b[0mcrc_list\u001b[0m\u001b[1;33m.\u001b[0m\u001b[0mappend\u001b[0m\u001b[1;33m(\u001b[0m\u001b[0mhex\u001b[0m\u001b[1;33m(\u001b[0m\u001b[0mzipf\u001b[0m\u001b[1;33m.\u001b[0m\u001b[0mgetinfo\u001b[0m\u001b[1;33m(\u001b[0m\u001b[0mname\u001b[0m\u001b[1;33m)\u001b[0m\u001b[1;33m.\u001b[0m\u001b[0mCRC\u001b[0m\u001b[1;33m)\u001b[0m\u001b[1;33m)\u001b[0m\u001b[1;33m\u001b[0m\u001b[0m\n\u001b[0;32m     35\u001b[0m \u001b[1;31m#         print(name,zipf.getinfo(name).file_size,zipf.getinfo(name).CRC)\u001b[0m\u001b[1;33m\u001b[0m\u001b[1;33m\u001b[0m\u001b[0m\n",
      "\u001b[1;31mNameError\u001b[0m: name 'cstr_len' is not defined"
     ]
    }
   ],
   "source": [
    "import string,random,binascii,zipfile\n",
    "\n",
    "# v_type 1:0-9,2:a-z,3:A-Z,4:?-~,5:all\n",
    "def getstring_bynum(num:int,v_type:list,used_li:list):\n",
    "    chars_dict = dict()\n",
    "    chars_dict[1] = string.printable[0:10]\n",
    "    chars_dict[2] = string.printable[10:36]\n",
    "    chars_dict[3] = string.printable[36:62]\n",
    "    chars_dict[4] = string.printable[62:]\n",
    "    chars_dict[5] = string.printable\n",
    "    select_str = \"\"\n",
    "    for i in v_type:\n",
    "        select_str += chars_dict[i]\n",
    "    res_str = \"\"\n",
    "    cnts = 0\n",
    "    while (res_str in used_li):\n",
    "        if cnts == 1000:\n",
    "            break\n",
    "        res_str = \"\"\n",
    "        for i in range(num):\n",
    "            rand = random.randint(0,len(select_str)-1)\n",
    "            res_str += select_str[rand:rand+1]\n",
    "        cnts += 1\n",
    "    used_li.append(res_str)\n",
    "#     print(res_str,used_li)\n",
    "    return res_str,used_li\n",
    "\n",
    "def crc_crack(zipf:str,cstr_len:int):\n",
    "    zipf = zipfile.ZipFile(zipf)\n",
    "    name_li = zipf.namelist()\n",
    "    crc_list = []\n",
    "    for name in name_li:\n",
    "        if zipf.getinfo(name).file_size == cstr_len:\n",
    "            crc_list.append(hex(zipf.getinfo(name).CRC))\n",
    "#         print(name,zipf.getinfo(name).file_size,zipf.getinfo(name).CRC)\n",
    "    used_li = [\"\"]\n",
    "    for cv in crc_list:\n",
    "        print(\"testing {} /...\".format(cv))\n",
    "#         cal_crc = 0\n",
    "#         print(cal_crc,cv,cal_crc!=cv)\n",
    "#         while hex(cal_crc) != cv:\n",
    "#             test_str_res = getstring_bynum(cstr_len,str_arragen,used_li)\n",
    "#             test_str = test_str_res[0]\n",
    "#             used_li = test_str_res[1]\n",
    "#             str_crc = binascii.crc32(test_str.encode())\n",
    "#             cal_crc = str_crc & 0xffffffff\n",
    "#             print(test_str,str_crc,cal_crc,hex(cal_crc),cv)\n",
    "#         print(\"{}:{}\".format(hex(cal_crc),test_str))\n",
    "        str_able = string.printable\n",
    "        for a in str_able:\n",
    "            for b in str_able:\n",
    "                for c in str_able:\n",
    "                    for d in str_able:\n",
    "                        for e in str_able:\n",
    "                            test_str = a+b+c+d+e\n",
    "                            str_crc = binascii.crc32(test_str.encode())\n",
    "                            cal_crc = str_crc & 0xffffffff\n",
    "                            if hex(cal_crc) == cv:\n",
    "                                print(\"{}:{}\".format(hex(cal_crc),test_str))\n",
    "                                break\n",
    "\n",
    "crc_crack(\"E:/download/CTF/[misc][初级]big_zip/question.zip\",5)\n"
   ]
  }
 ],
 "metadata": {
  "kernelspec": {
   "display_name": "Python 3",
   "language": "python",
   "name": "python3"
  },
  "language_info": {
   "codemirror_mode": {
    "name": "ipython",
    "version": 3
   },
   "file_extension": ".py",
   "mimetype": "text/x-python",
   "name": "python",
   "nbconvert_exporter": "python",
   "pygments_lexer": "ipython3",
   "version": "3.7.0"
  }
 },
 "nbformat": 4,
 "nbformat_minor": 2
}
