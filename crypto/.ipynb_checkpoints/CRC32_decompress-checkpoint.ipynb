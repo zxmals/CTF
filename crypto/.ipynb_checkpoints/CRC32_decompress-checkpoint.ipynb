{
 "cells": [
  {
   "cell_type": "markdown",
   "metadata": {},
   "source": [
    "### CRC32碰撞"
   ]
  },
  {
   "cell_type": "code",
   "execution_count": null,
   "metadata": {},
   "outputs": [],
   "source": [
    "import string,random,binascii,zipfile\n",
    "\n",
    "# v_type 1:0-9,2:a-z,3:A-Z,4:?-~,5:all\n",
    "def getstring_bynum(num:int,v_type:list,used_li:list):\n",
    "    chars_dict = dict()\n",
    "    chars_dict[1] = string.printable[0:10]\n",
    "    chars_dict[2] = string.printable[10:36]\n",
    "    chars_dict[3] = string.printable[36:62]\n",
    "    chars_dict[4] = string.printable[62:]\n",
    "    chars_dict[5] = string.printable\n",
    "    select_str = \"\"\n",
    "    for i in v_type:\n",
    "        select_str += chars_dict[i]\n",
    "    res_str = \"\"\n",
    "    cnts = 0\n",
    "    while (res_str in used_li):\n",
    "        if cnts == 1000:\n",
    "            break\n",
    "        res_str = \"\"\n",
    "        for i in range(num):\n",
    "            rand = random.randint(0,len(select_str)-1)\n",
    "            res_str += select_str[rand:rand+1]\n",
    "        cnts += 1\n",
    "    used_li.append(res_str)\n",
    "#     print(res_str,used_li)\n",
    "    return res_str,used_li\n",
    "\n",
    "def crc_crack(zipf:str,cstr_len:int):\n",
    "    zipf = zipfile.ZipFile(zipf)\n",
    "    name_li = zipf.namelist()\n",
    "    crc_list = []\n",
    "    for name in name_li:\n",
    "        if zipf.getinfo(name).file_size == cstr_len:\n",
    "            crc_list.append(hex(zipf.getinfo(name).CRC))\n",
    "#         print(name,zipf.getinfo(name).file_size,zipf.getinfo(name).CRC)\n",
    "    used_li = [\"\"]\n",
    "    for cv in crc_list:\n",
    "        print(\"testing {} /...\".format(cv))\n",
    "#         cal_crc = 0\n",
    "#         print(cal_crc,cv,cal_crc!=cv)\n",
    "#         while hex(cal_crc) != cv:\n",
    "#             test_str_res = getstring_bynum(cstr_len,str_arragen,used_li)\n",
    "#             test_str = test_str_res[0]\n",
    "#             used_li = test_str_res[1]\n",
    "#             str_crc = binascii.crc32(test_str.encode())\n",
    "#             cal_crc = str_crc & 0xffffffff\n",
    "#             print(test_str,str_crc,cal_crc,hex(cal_crc),cv)\n",
    "#         print(\"{}:{}\".format(hex(cal_crc),test_str))\n",
    "        str_able = string.printable\n",
    "        for a in str_able:\n",
    "            for b in str_able:\n",
    "                for c in str_able:\n",
    "                    for d in str_able:\n",
    "                        for e in str_able:\n",
    "                            test_str = a+b+c+d+e\n",
    "                            str_crc = binascii.crc32(test_str.encode())\n",
    "                            cal_crc = str_crc & 0xffffffff\n",
    "                            if hex(cal_crc) == cv:\n",
    "                                print(\"{}:{}\".format(hex(cal_crc),test_str))\n",
    "                                break\n",
    "\n",
    "crc_crack(\"E:/download/CTF/[misc][初级]big_zip/question.zip\",5)\n"
   ]
  },
  {
   "cell_type": "code",
   "execution_count": null,
   "metadata": {},
   "outputs": [
    {
     "name": "stdout",
     "output_type": "stream",
     "text": [
      "1099511627775\n",
      "20220523 13:15:40\n"
     ]
    }
   ],
   "source": [
    "import string,datetime\n",
    "\n",
    "bin_li = ['1' for i in range(40)]\n",
    "strs = string.printable\n",
    "able_num_li = [ord(i) for i in strs]\n",
    "print(int(\"\".join(bin_li),2))\n",
    "\n",
    "# def crc_crack():\n",
    "    \n",
    "\n",
    "def int_str(num:int,words_num:int):\n",
    "    s = bin(num)[2:]\n",
    "    zeros = \"\"\n",
    "    for i in range(words_num*8-len(s)):\n",
    "        zeros += '0'\n",
    "    bs2 = zeros + s\n",
    "    \n",
    "    res_li_num = [int(bs2[i*8:i*8+8],2) if int(bs2[i*8:i*8+8],2) in able_num_li else -1 for i in range(int(len(bs2)/8))]\n",
    "    if -1 in res_li_num:\n",
    "        return '-1'\n",
    "    else:\n",
    "        res_str = \"\"\n",
    "        for res_chr in res_li_num:\n",
    "            res_str += chr(res_chr)\n",
    "        return res_str\n",
    "\n",
    "print(datetime.datetime.now().strftime('%Y%m%d %H:%M:%S'))   \n",
    "with open(\"E:/download/CTF/[misc][初级]big_zip/res.txt\",'w') as f:\n",
    "    with open(\"E:/download/CTF/[misc][初级]big_zip/cnts.txt\",'w') as f2:\n",
    "        for i in range(int(\"\".join(bin_li),2)+1):\n",
    "            strs = int_str(i,5)\n",
    "            if strs != '-1':\n",
    "                f.write(strs+'\\n')\n",
    "            f2.write(str(i)+'\\n')\n",
    "print(datetime.datetime.now().strftime('%Y%m%d %H:%M:%S')) "
   ]
  }
 ],
 "metadata": {
  "kernelspec": {
   "display_name": "Python 3",
   "language": "python",
   "name": "python3"
  },
  "language_info": {
   "codemirror_mode": {
    "name": "ipython",
    "version": 3
   },
   "file_extension": ".py",
   "mimetype": "text/x-python",
   "name": "python",
   "nbconvert_exporter": "python",
   "pygments_lexer": "ipython3",
   "version": "3.7.0"
  }
 },
 "nbformat": 4,
 "nbformat_minor": 2
}
