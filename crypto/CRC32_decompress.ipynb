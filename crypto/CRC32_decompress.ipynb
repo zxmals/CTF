{
 "cells": [
  {
   "cell_type": "markdown",
   "metadata": {},
   "source": [
    "### CRC32碰撞"
   ]
  },
  {
   "cell_type": "code",
   "execution_count": null,
   "metadata": {},
   "outputs": [
    {
     "name": "stdout",
     "output_type": "stream",
     "text": [
      "testing 0x251dee02 /...\n"
     ]
    }
   ],
   "source": [
    "import string,binascii,zipfile,itertools\n",
    "\n",
    "\n",
    "def crc_crack(zipf:str,cstr_len:int):\n",
    "    zipf = zipfile.ZipFile(zipf)\n",
    "    name_li = zipf.namelist()\n",
    "    crc_list = []\n",
    "    for name in name_li:\n",
    "        if zipf.getinfo(name).file_size == cstr_len:\n",
    "            crc_list.append(hex(zipf.getinfo(name).CRC))\n",
    "#         print(name,zipf.getinfo(name).file_size,zipf.getinfo(name).CRC)\n",
    "    chars = string.printable\n",
    "    for cv in crc_list:\n",
    "        print(\"testing {} /...\".format(cv))\n",
    "        for c in itertools.product(chars,repeat=cstr_len):\n",
    "            test_str = \"\".join(c)\n",
    "            str_crc = binascii.crc32(test_str.encode())\n",
    "            cal_crc = str_crc & 0xffffffff\n",
    "            if hex(cal_crc) == cv:\n",
    "                print(\"{}:{}\".format(hex(cal_crc),test_str))\n",
    "                break\n",
    "\n",
    "crc_crack(\"E:/download/CTF/[misc][初级]big_zip/question.zip\",5)\n"
   ]
  }
 ],
 "metadata": {
  "kernelspec": {
   "display_name": "Python 3",
   "language": "python",
   "name": "python3"
  },
  "language_info": {
   "codemirror_mode": {
    "name": "ipython",
    "version": 3
   },
   "file_extension": ".py",
   "mimetype": "text/x-python",
   "name": "python",
   "nbconvert_exporter": "python",
   "pygments_lexer": "ipython3",
   "version": "3.7.0"
  }
 },
 "nbformat": 4,
 "nbformat_minor": 2
}
