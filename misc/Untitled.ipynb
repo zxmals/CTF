{
 "cells": [
  {
   "cell_type": "code",
   "execution_count": 59,
   "metadata": {},
   "outputs": [
    {
     "name": "stdout",
     "output_type": "stream",
     "text": [
      "ÿÿÿÿÿÿÿÿÿÿÿÿÿÿÿÿÿÿÿùÿÿÿÿÿpïÿû>á,\n",
      "¯ÿÿ÷ûÖ½_Ö_ÿÿÿà»ùý®ÿÿÿÍ&Þïê]ÿÿÿ·ïn3Áxÿÿÿÿßýûïÿÿÿþûß»ûßÿÿÿù÷Ïx÷\u000fÿÿÿÿÿÿÿÿÿÿÿÿÿÿÿÿÿÿÿÿÿ~\u000e\u0006/t.Ö·{Þ½î·wÞ½oçýsÍï­{ÞÝê~«¾ßÚù|3á9Wl¿±ÿ{ÿûï?ê}ïöÿûßþÖºêßóÍ÷\u000fý@\u001e",
      "\u000fÿûÿÿÿÿÿÿÿÿÿÿÿÿÿÿÿ÷"
     ]
    }
   ],
   "source": [
    "\n",
    "with open(\"E:/download/CTF/[misc][正常]message/msg_bc5c27abe80477b13ec5ba03dcaf7cf0/msg.txt\",'r',encoding='utf8') as f:\n",
    "    fi = f.read()\n",
    "\n",
    "res_li = [fi[i:i+1] for i in range(len(fi)-1,-1,-1)]\n",
    "res = \"\".join(res_li)\n",
    "for i in range(int(len(res)/2)):\n",
    "    print(chr(int(res[i*2:i*2+2],16)),end=\"\")"
   ]
  },
  {
   "cell_type": "code",
   "execution_count": 37,
   "metadata": {},
   "outputs": [
    {
     "name": "stdout",
     "output_type": "stream",
     "text": [
      "3\n",
      "2\n",
      "1\n",
      "0\n"
     ]
    }
   ],
   "source": [
    "for i in range(3,-1,-1):\n",
    "    print(i)"
   ]
  }
 ],
 "metadata": {
  "kernelspec": {
   "display_name": "Python 3",
   "language": "python",
   "name": "python3"
  },
  "language_info": {
   "codemirror_mode": {
    "name": "ipython",
    "version": 3
   },
   "file_extension": ".py",
   "mimetype": "text/x-python",
   "name": "python",
   "nbconvert_exporter": "python",
   "pygments_lexer": "ipython3",
   "version": "3.7.0"
  }
 },
 "nbformat": 4,
 "nbformat_minor": 2
}
