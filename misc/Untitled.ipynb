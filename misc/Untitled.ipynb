{
 "cells": [
  {
   "cell_type": "code",
   "execution_count": null,
   "metadata": {},
   "outputs": [
    {
     "name": "stdout",
     "output_type": "stream",
     "text": [
      "30230.zip\n",
      "pwd: 32759\n",
      "23320.zip\n",
      "pwd: 16414\n",
      "3385.zip\n",
      "pwd: 11613\n",
      "12040.zip\n",
      "pwd: 18733\n",
      "3690.zip\n",
      "pwd: 11289\n",
      "24913.zip\n"
     ]
    }
   ],
   "source": [
    "import os,random,zipfile,itertools\n",
    "\n",
    "\n",
    "def uncompress():\n",
    "    file_li = []\n",
    "    chars = '0123456789'\n",
    "    if_right = False\n",
    "    file_rd_list = os.listdir(\"E:/download/CTF/[misc][高级]Tor/\")  \n",
    "    keep = True\n",
    "    while len(file_rd_list)>len(file_li):        \n",
    "        if not keep:\n",
    "            break\n",
    "        for f in file_rd_list:\n",
    "            if f[len(f)-3:len(f)]!='zip':\n",
    "                keep = False\n",
    "                break\n",
    "            if f in file_li:\n",
    "                os.remove(\"E:/download/CTF/[misc][高级]Tor/\"+f)\n",
    "                file_li.remove(f)\n",
    "            else:\n",
    "                print(f)\n",
    "                for l in range(4,7):                    \n",
    "                    for c in itertools.product(chars,repeat=l):\n",
    "                        pwd = \"\".join(c)\n",
    "                        try:\n",
    "                            with zipfile.ZipFile(\"E:/download/CTF/[misc][高级]Tor/\"+f) as zipf:\n",
    "                                zipf.extractall(\"E:/download/CTF/[misc][高级]Tor/\",pwd=pwd.encode('utf8'))\n",
    "                                file_li.append(f)\n",
    "                                if_right = True\n",
    "                                print(\"pwd: {}\".format(pwd))\n",
    "                                break\n",
    "                        except Exception as e:\n",
    "                            pass\n",
    "                    if if_right:\n",
    "                        break\n",
    "        file_rd_list = os.listdir(\"E:/download/CTF/[misc][高级]Tor/\")\n",
    "        if_right = False\n",
    "\n",
    "uncompress()"
   ]
  },
  {
   "cell_type": "code",
   "execution_count": 4,
   "metadata": {},
   "outputs": [
    {
     "data": {
      "text/plain": [
       "'233'"
      ]
     },
     "execution_count": 4,
     "metadata": {},
     "output_type": "execute_result"
    }
   ],
   "source": [
    "s = '11233'\n",
    "s[len(s)-3:len(s)]"
   ]
  }
 ],
 "metadata": {
  "kernelspec": {
   "display_name": "Python 3",
   "language": "python",
   "name": "python3"
  },
  "language_info": {
   "codemirror_mode": {
    "name": "ipython",
    "version": 3
   },
   "file_extension": ".py",
   "mimetype": "text/x-python",
   "name": "python",
   "nbconvert_exporter": "python",
   "pygments_lexer": "ipython3",
   "version": "3.7.0"
  }
 },
 "nbformat": 4,
 "nbformat_minor": 2
}
