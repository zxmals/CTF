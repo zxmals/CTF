{
 "cells": [
  {
   "cell_type": "code",
   "execution_count": 9,
   "metadata": {},
   "outputs": [
    {
     "data": {
      "text/plain": [
       "False"
      ]
     },
     "execution_count": 9,
     "metadata": {},
     "output_type": "execute_result"
    }
   ],
   "source": [
    "import struct,binascii\n",
    "\n",
    "#12-15字节代表固定的文件头数据块的标示，16-19字节代表宽度，20-23字节代表高度，24-28字节分别代表\n",
    "# Bit depth、ColorType、Compression method、Filter method、Interlace method\n",
    "#29-32字节为CRC校验和\n",
    "\n",
    "# png文件高、宽还原\n",
    "def extract_png_use_crc(file:str):\n",
    "    with open(file,'rb') as f:\n",
    "        fi = f.read()\n",
    "    if_catch = False\n",
    "    for i in range(10000):#宽度0-9999搜索\n",
    "        for j in range(10000):\n",
    "            data=fi[12:16]+struct.pack('>I',i)+struct.pack('>I',j)+fi[24:29]  #pack函数将int转为bytes,>表示大端00 00 00 02,I表示4字节无符号int;<表示小端 02 00 00 00\n",
    "            crc=binascii.crc32(data)&0xffffffff #byte的大小为8bits而int的大小为32bits,转换时进行与运算避免补码问题0x932f8a6b\n",
    "            if crc==struct.unpack('>I',fi[29:33])[0]&0xffffffff : #解开为无符号整数\n",
    "                print(\"right-width: {}|{}  right-height: {}|{}\".format(i,hex(i),j,hex(j)))\n",
    "                if_catch = True\n",
    "                break\n",
    "        if if_catch:\n",
    "            break\n",
    "\n",
    "# png文件CRC32校验\n",
    "def if_png_crc32_isright(file:str):\n",
    "    with open(file,'rb') as f:\n",
    "        fi = f.read()\n",
    "    data = fi[12:29]\n",
    "    crc = binascii.crc32(data)&0xffffffff\n",
    "    return crc==struct.unpack('>I',fi[29:33])[0]&0xffffffff\n",
    "\n",
    "file = \"D:/download/attachment-4/1.png\"\n",
    "# extract_png_use_crc(file)\n",
    "if_png_crc32_isright(file)"
   ]
  }
 ],
 "metadata": {
  "kernelspec": {
   "display_name": "Python 3",
   "language": "python",
   "name": "python3"
  },
  "language_info": {
   "codemirror_mode": {
    "name": "ipython",
    "version": 3
   },
   "file_extension": ".py",
   "mimetype": "text/x-python",
   "name": "python",
   "nbconvert_exporter": "python",
   "pygments_lexer": "ipython3",
   "version": "3.7.6"
  }
 },
 "nbformat": 4,
 "nbformat_minor": 4
}
