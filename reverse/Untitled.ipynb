{
 "cells": [
  {
   "cell_type": "code",
   "execution_count": 54,
   "metadata": {},
   "outputs": [
    {
     "name": "stdout",
     "output_type": "stream",
     "text": [
      "flag{QianQiuWanDai_YiTongJiangHu}O\n"
     ]
    }
   ],
   "source": [
    "gpl_li = ['f',0x0A,'k',0x0C,'w&O.@',0x11,'x',0x0D,'Z;U',0x11,'p',0x19,'F',0x1F,'v\"M#D',0x0E,'g',0x6,'h',0x0F,'G2O',0x0]\n",
    "gpl_li = [chr(gpl) if type(gpl)==int else gpl for gpl in gpl_li]\n",
    "gpl_str = \"\".join(gpl_li)\n",
    "sli = [i for i in gpl_str]\n",
    "res_li = [chr(ord(sli[i])^ord(sli[i-1])) for i in range(len(sli)-1,0,-1)]\n",
    "flag = 'f'\n",
    "for i in range(len(res_li)-1,-1,-1):\n",
    "    flag += res_li[i]\n",
    "print(flag)"
   ]
  },
  {
   "cell_type": "code",
   "execution_count": 65,
   "metadata": {},
   "outputs": [
    {
     "name": "stdout",
     "output_type": "stream",
     "text": [
      "e2lfbDB2ZV95b3V9"
     ]
    },
    {
     "data": {
      "text/plain": [
       "'{i_l0ve_you}'"
      ]
     },
     "execution_count": 65,
     "metadata": {},
     "output_type": "execute_result"
    }
   ],
   "source": [
    "import base64\n",
    "str2 = \"e3nifIH9b_C@n@dH\"\n",
    "k = 0\n",
    "for w in str2:\n",
    "    print(chr(ord(w)-k),end=\"\")\n",
    "    k += 1\n",
    "base64.b64decode(b'e2lfbDB2ZV95b3V9').decode('utf8')"
   ]
  },
  {
   "cell_type": "code",
   "execution_count": 73,
   "metadata": {},
   "outputs": [
    {
     "name": "stdout",
     "output_type": "stream",
     "text": [
      "10 ADSFKSLCDN adsfkslcdn\n"
     ]
    }
   ],
   "source": [
    "key = 'ADSFKSLCDN'\n",
    "text = 'killswodah'\n",
    "v2 = 0;\n",
    "v3 = 0;\n",
    "v5 = len(key);\n",
    "new_key = []\n",
    "for i in range(v5):\n",
    "   \n",
    "    if ord(key[v3 % v5]) > 64 & ord(key[v3 % v5]) <= 90:\n",
    "#         key[i] = chr(ord(key[v3 % v5]) + 32);\n",
    "        new_key.append(chr(ord(key[v3 % v5]) + 32))\n",
    "    else:\n",
    "        new_key.append(key[i])\n",
    "    v3 +=1\n",
    "\n",
    "    \n",
    "    \n",
    "    \n",
    "  while ( 1 )\n",
    "  {\n",
    "    v1 = getchar();\n",
    "    if ( v1 == 10 )\n",
    "      break;\n",
    "    if ( v1 == 32 )\n",
    "    {\n",
    "      ++v2;\n",
    "    }\n",
    "    else\n",
    "    {\n",
    "      if ( v1 <= 96 || v1 > 122 )\n",
    "      {\n",
    "        if ( v1 > 64 && v1 <= 90 )\n",
    "          str2[v2] = (v1 - 39 - key[v3++ % v5] + 97) % 26 + 97;\n",
    "      }\n",
    "      else\n",
    "      {\n",
    "        str2[v2] = (v1 - 39 - key[v3++ % v5] + 97) % 26 + 97;\n",
    "      }\n",
    "      if ( !(v3 % v5) )\n",
    "        putchar(' ');\n",
    "      ++v2;\n",
    "    }\n",
    "  }    "
   ]
  }
 ],
 "metadata": {
  "kernelspec": {
   "display_name": "Python 3",
   "language": "python",
   "name": "python3"
  },
  "language_info": {
   "codemirror_mode": {
    "name": "ipython",
    "version": 3
   },
   "file_extension": ".py",
   "mimetype": "text/x-python",
   "name": "python",
   "nbconvert_exporter": "python",
   "pygments_lexer": "ipython3",
   "version": "3.7.0"
  }
 },
 "nbformat": 4,
 "nbformat_minor": 2
}
